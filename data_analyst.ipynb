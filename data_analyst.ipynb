{
 "cells": [
  {
   "cell_type": "code",
   "execution_count": null,
   "id": "397f9bbd-7631-4a51-b518-088a585d0ab2",
   "metadata": {
    "tags": []
   },
   "outputs": [],
   "source": [
    "from config.config import PROJECT_ID, DATASET_ID, TABLE_ID, BUCKET_NAME, FOLDER_PREFIX, MODEL_NAME, VERTEXAI_LOCATION\n",
    "from vertexai.generative_models import GenerativeModel, GenerationConfig\n",
    "\n",
    "from google.cloud import bigquery\n",
    "import pandas as pd\n",
    "import numpy as np"
   ]
  },
  {
   "cell_type": "code",
   "execution_count": null,
   "id": "969607e1-2b6a-48c6-9005-0d210a889ae0",
   "metadata": {
    "tags": []
   },
   "outputs": [],
   "source": [
    "def read_bigquery_table_to_pandas(project_id, dataset_id, table_id):\n",
    "    \"\"\"\n",
    "    Reads a BigQuery table into a Pandas DataFrame.\n",
    "\n",
    "    Parameters:\n",
    "    project_id (str): GCP project ID\n",
    "    dataset_id (str): BigQuery dataset ID\n",
    "    table_id (str): BigQuery table ID\n",
    "\n",
    "    Returns:\n",
    "    pandas.DataFrame: A DataFrame containing the data from the BigQuery table.\n",
    "    \"\"\"\n",
    "    try:\n",
    "        # Construct a BigQuery client object\n",
    "        client = bigquery.Client(project=project_id)\n",
    "        \n",
    "        # Define the full table path\n",
    "        table_ref = f\"{project_id}.{dataset_id}.{table_id}\"\n",
    "        \n",
    "        # Query to select everything from the specified table\n",
    "        query = f\"SELECT * FROM `{table_ref}`\"\n",
    "        \n",
    "        # Execute the query and convert to a Pandas DataFrame\n",
    "        dataframe = client.query(query).to_dataframe()\n",
    "    \n",
    "        return dataframe\n",
    "    except Exception as e:\n",
    "        print(f\"An error occurred: {e}\")\n",
    "        return pd.DataFrame()\n",
    "\n"
   ]
  },
  {
   "cell_type": "code",
   "execution_count": null,
   "id": "b551f5e4-c9c2-4209-933d-e7017a33d8fa",
   "metadata": {
    "tags": []
   },
   "outputs": [],
   "source": [
    "df = read_bigquery_table_to_pandas(PROJECT_ID, DATASET_ID, TABLE_ID)"
   ]
  },
  {
   "cell_type": "code",
   "execution_count": null,
   "id": "7140d9d4-c961-487d-8048-1fbeb4d3f431",
   "metadata": {
    "tags": []
   },
   "outputs": [],
   "source": [
    "def describe_dataframe_types(df):\n",
    "    \"\"\"\n",
    "    Returns detailed information about the columns of a DataFrame,\n",
    "    specifically identifying columns containing arrays.\n",
    "\n",
    "    Parameters:\n",
    "    df (pandas.DataFrame): The DataFrame to describe.\n",
    "\n",
    "    Returns:\n",
    "    dict: A dictionary with column names as keys and type information as values.\n",
    "    \"\"\"\n",
    "    column_info = {}\n",
    "    for column in df.columns:\n",
    "        column_data = df[column]\n",
    "        if isinstance(df[column].iloc[0], np.ndarray):\n",
    "            column_info[column] = f\"Array <{column_data.dtype}>\"\n",
    "        else:\n",
    "            column_info[column] = str(column_data.dtype)\n",
    "    return column_info"
   ]
  },
  {
   "cell_type": "code",
   "execution_count": null,
   "id": "cd92b149-21dc-4c89-9daa-252b86fb086b",
   "metadata": {
    "tags": []
   },
   "outputs": [],
   "source": [
    "def sample_random_rows(df, n):\n",
    "    \"\"\"\n",
    "    Samples n random rows from a DataFrame and returns them as a list.\n",
    "\n",
    "    Parameters:\n",
    "    df (pandas.DataFrame): The DataFrame to sample from.\n",
    "    n (int): The number of rows to sample.\n",
    "\n",
    "    Returns:\n",
    "    list: A list containing the sampled rows.\n",
    "    \"\"\"\n",
    "    return df.sample(n).to_dict(orient='records')\n",
    "\n",
    "sample_random_rows(df, 2)"
   ]
  },
  {
   "cell_type": "code",
   "execution_count": null,
   "id": "e5bb3f59-d82a-4a81-a8c5-5d4278ea4637",
   "metadata": {
    "tags": []
   },
   "outputs": [],
   "source": [
    "def generate_visualization_code(df_name, schema, examples, user_query, model_name):\n",
    "    \"\"\"\n",
    "    Generates Python code to visualize or provide results for a user query on a Pandas DataFrame.\n",
    "\n",
    "    Parameters:\n",
    "    df_name (str): The name of the DataFrame.\n",
    "    schema (str): The schema of the DataFrame.\n",
    "    random_rows (str): A string representation of 10 random rows of the DataFrame.\n",
    "    user_query (str): The user's query.\n",
    "    model_name (str): The name of the generative model to use.\n",
    "\n",
    "    Returns:\n",
    "    str: The generated Python code.\n",
    "    \"\"\"\n",
    "    formatted_schema = \"\\n\".join([str(field) for field in schema])\n",
    "    formatted_examples = \"\\n\".join([str(row) for row in examples])\n",
    "    \n",
    "    prompt = f\"\"\"You are an advanced Python data analyst.\n",
    "\n",
    "    I have a Pandas DataFrame named `{df_name}`. The schema of the DataFrame is as follows:\n",
    "    {schema}\n",
    "\n",
    "    Here are some random rows of the DataFrame:\n",
    "    {formatted_examples}\n",
    "\n",
    "    Given the following user query: \"{user_query}\", generate only the Python code that uses Pandas to visualize or provide results for this query.\n",
    "    Pay attention that string values in most columns most be changed to a consistent case before proper analysis. Example 'medical insurance' and 'Medical Insurance' reflect same values but might be found in different case letters in the data. Make sure to correct this when needed.\n",
    "    Make sure the code prints enough context to the user to make it more interesting to analyze.\"\"\"\n",
    "    \n",
    "    print(prompt)\n",
    "    # Initialize the model\n",
    "    model = GenerativeModel(model_name)\n",
    "\n",
    "    # Generate the structured output\n",
    "    response = model.generate_content(\n",
    "        prompt,\n",
    "        generation_config=GenerationConfig(\n",
    "            temperature=1,\n",
    "        ),\n",
    "    )\n",
    "\n",
    "    code = response.text.strip()\n",
    "    # Remove code block markers if present\n",
    "    if code.startswith(\"```python\") and code.endswith(\"```\"):\n",
    "        code = code[9:-3].strip()\n",
    "    elif code.startswith(\"```\") and code.endswith(\"```\"):\n",
    "        code = code[3:-3].strip()\n",
    "    return code    "
   ]
  },
  {
   "cell_type": "code",
   "execution_count": null,
   "id": "4c95d9ea-0baa-4551-871a-ca0d23fefd42",
   "metadata": {
    "tags": []
   },
   "outputs": [],
   "source": [
    "code = generate_visualization_code(\"DF\", describe_dataframe_types(df), sample_random_rows(df, 2), \"What are top benefits mentionned in job listings?\", MODEL_NAME)"
   ]
  },
  {
   "cell_type": "code",
   "execution_count": null,
   "id": "1e474cfe-cb43-4fe1-82bb-e97763d4feab",
   "metadata": {
    "tags": []
   },
   "outputs": [],
   "source": [
    "global schema\n",
    "global df_sample\n",
    "schema = describe_dataframe_types(df)\n",
    "df_sample = sample_random_rows(df, 2)"
   ]
  },
  {
   "cell_type": "code",
   "execution_count": null,
   "id": "64794550-7b53-4a3b-a5ef-16791c1570dd",
   "metadata": {
    "tags": []
   },
   "outputs": [],
   "source": [
    "from langgraph.graph import StateGraph, START, END\n",
    "from typing import List, Dict, Any, Annotated\n",
    "from typing_extensions import TypedDict\n",
    "from langgraph.types import Send\n",
    "import operator\n",
    "from langgraph.checkpoint.memory import MemorySaver\n",
    "\n",
    "\n",
    "from IPython.display import Image, display\n",
    "\n",
    "class InputState(TypedDict):\n",
    "    query: str\n",
    "    df_name: str\n",
    "    model_name: str\n",
    "    \n",
    "class OutputState(TypedDict):\n",
    "    results: str\n",
    "\n",
    "class OverallState(InputState, OutputState):\n",
    "    code: str\n",
    "\n",
    "    \n",
    "def generate_code_(state: OverallState):\n",
    "    query = state[\"query\"]\n",
    "    df_name = state[\"df_name\"]\n",
    "    model_name = state[\"model_name\"]\n",
    "    \n",
    "    code = generate_visualization_code(\"DF\", describe_dataframe_types(df), sample_random_rows(df, 2), \"What are top benefits mentionned in job listings?\", MODEL_NAME)\n",
    "    return {\"code\": code}\n",
    "\n",
    "def exec_code_(state: OverallState):\n",
    "    code = state[\"code\"]\n",
    "    try:\n",
    "        exec(code)\n",
    "        results = \"Success\"\n",
    "    except Exception as e:\n",
    "        results = \"Error\"\n",
    "\n",
    "    return {\"results\": results}\n",
    "\n",
    "\n",
    "def code_result(state: OverallState):\n",
    "    result = state[\"results\"]\n",
    "    if result == \"Error\":\n",
    "        return \"retry\"\n",
    "    else:\n",
    "        return \"success\"    \n",
    "    \n",
    "\n",
    "# Build the graph with input and output schemas specified\n",
    "graph = StateGraph(OverallState, input=InputState, output=OutputState)                \n",
    "# Adding nodes\n",
    "graph.add_node(generate_code_)\n",
    "graph.add_node(exec_code_)\n",
    "    \n",
    "graph.add_edge(START, \"generate_code_\")\n",
    "graph.add_edge(\"generate_code_\", \"exec_code_\")\n",
    "\n",
    "graph.add_conditional_edges(\n",
    "    \"exec_code_\",\n",
    "    code_result,\n",
    "\n",
    "    {\n",
    "        \"retry\": \"generate_code_\",\n",
    "        \"success\": END\n",
    "    },\n",
    ")\n",
    "\n",
    "\n",
    "app = graph.compile()  # Compile the graph\n",
    "\n",
    "try:\n",
    "    display(Image(app.get_graph(xray=True).draw_mermaid_png()))\n",
    "except Exception:\n",
    "    # This requires some extra dependencies and is optional\n",
    "    pass"
   ]
  },
  {
   "cell_type": "code",
   "execution_count": null,
   "id": "045ede1a-9480-4d87-a97f-5dc6c15f97d4",
   "metadata": {
    "tags": []
   },
   "outputs": [],
   "source": [
    "app.invoke({\"query\": \"Graph the top countries in data\", \"model_name\": MODEL_NAME, \"df_name\": \"DF\"})"
   ]
  }
 ],
 "metadata": {
  "environment": {
   "kernel": "python3",
   "name": "common-cpu.m125",
   "type": "gcloud",
   "uri": "us-docker.pkg.dev/deeplearning-platform-release/gcr.io/base-cpu:m125"
  },
  "kernelspec": {
   "display_name": "Python 3",
   "language": "python",
   "name": "python3"
  },
  "language_info": {
   "codemirror_mode": {
    "name": "ipython",
    "version": 3
   },
   "file_extension": ".py",
   "mimetype": "text/x-python",
   "name": "python",
   "nbconvert_exporter": "python",
   "pygments_lexer": "ipython3",
   "version": "3.10.15"
  }
 },
 "nbformat": 4,
 "nbformat_minor": 5
}
